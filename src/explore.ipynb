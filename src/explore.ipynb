{
 "cells": [
  {
   "cell_type": "markdown",
   "metadata": {},
   "source": [
    "<br>\n",
    "\n",
    "# 🌲 **PREDICTING DIABETES** 🌲"
   ]
  },
  {
   "cell_type": "markdown",
   "metadata": {},
   "source": [
    "**RANDOM FOREST**"
   ]
  },
  {
   "cell_type": "markdown",
   "metadata": {},
   "source": [
    "# **INDEX**\n",
    "\n",
    "- **STEP 1: PROBLEM DEFINITION AND DATA COLLECTION**\n",
    "- **STEP 2: DATA EXPLORATION AND CLEANING**\n",
    "- **STEP 3: UNIVARIATE VARIABLE ANALYSIS**\n",
    "- **STEP 4: MULTIVARIATE VARIABLE ANALYSIS**\n",
    "- **STEP 5: FEATURE ENGINEERING**\n",
    "- **STEP 6: FEATURE SELECTION**\n",
    "- **STEP 7: MACHINE LEARNING**\n",
    "- **STEP 8: CONCLUSIONS**"
   ]
  },
  {
   "cell_type": "markdown",
   "metadata": {},
   "source": [
    "<br>\n",
    "\n",
    "**STEP 1: PROBLEM DEFINITION AND DATA COLLECTION**\n",
    "\n",
    "- 1.1. Problem Definition\n",
    "- 1.2. Library Importing\n",
    "- 1.3. Data Collection"
   ]
  },
  {
   "cell_type": "markdown",
   "metadata": {},
   "source": [
    "<br>\n",
    "\n",
    "**1.1. PROBLEM DEFINITION**"
   ]
  },
  {
   "cell_type": "markdown",
   "metadata": {},
   "source": [
    "Diabetes is a chronic health condition that affects millions of people worldwide. Early detection and diagnosis of diabetes are crucial for effective management and prevention of complications. In this study, we aim to develop a predictive model that can accurately identify individuals at risk of developing diabetes based on a set of diagnostic measures. By leveraging a dataset from the National Institute of Diabetes and Digestive and Kidney Diseases.\n",
    "\n",
    "\n",
    "**RESEARCH QUESTIONS**\n",
    "\n",
    "**Feature Importance**\n",
    "\n",
    "- Which diagnostic measures (e.g., glucose levels, BMI) are the strongest predictors of diabetes?\n",
    "- How do the relative importance of these features compare?\n",
    "\n",
    "**Feature Interactions**\n",
    "- Are there significant interactions between diagnostic measures that influence diabetes risk?\n",
    "- How do these interactions affect the predictive model?\n",
    "\n",
    "**Model Performance**\n",
    "- How well does the decision tree model generalize to new, unseen data?\n",
    "- What is the impact of different hyperparameter settings on model performance?\n",
    "\n",
    "**Clinical Implications**\n",
    "- Can the model identify subgroups of patients with distinct risk profiles?\n",
    "- How can the model be used to improve clinical decision-making and early intervention?\n",
    "\n",
    "**Methodology**\n",
    "- `Random forest algorithm`\n",
    "\n",
    "A **random forest** is a machine learning algorithm that **creates multiple decision trees during training**. \n",
    "\n",
    "*Each tree makes a prediction, and the final prediction is determined by the majority vote (for classification) or average (for regression) of all the trees*\n",
    "\n",
    "**Differences between random forest and decision tree**\n",
    "\n",
    "- **Decision trees** are individual models that can overfit.\n",
    "- **Random forests*** are ensembles of decision trees that reduce overfitting and improve performance.\n"
   ]
  },
  {
   "cell_type": "markdown",
   "metadata": {},
   "source": [
    "**1.2. LIBRARY IMPORTING**"
   ]
  },
  {
   "cell_type": "code",
   "execution_count": 1,
   "metadata": {},
   "outputs": [],
   "source": [
    "import pandas as pd \n",
    "import numpy as np \n",
    "import seaborn as sns \n",
    "import matplotlib.pyplot as plt \n",
    "import json\n",
    "import joblib\n",
    "import os\n",
    "from sklearn.model_selection import train_test_split, GridSearchCV\n",
    "from sklearn.preprocessing import StandardScaler, MinMaxScaler\n",
    "from sklearn.feature_selection import f_classif, SelectKBest\n",
    "from sklearn.tree import DecisionTreeClassifier\n",
    "from sklearn.metrics import classification_report, confusion_matrix, accuracy_score, precision_score, recall_score, f1_score, classification_report\n",
    "from sklearn import tree\n",
    "from sklearn.ensemble import RandomForestClassifier\n",
    "from sklearn.model_selection import RandomizedSearchCV\n",
    "from pickle import dump\n",
    "import math\n",
    "import warnings\n",
    "warnings.filterwarnings(\"ignore\", category=FutureWarning)"
   ]
  }
 ],
 "metadata": {
  "kernelspec": {
   "display_name": "Python 3",
   "language": "python",
   "name": "python3"
  },
  "language_info": {
   "codemirror_mode": {
    "name": "ipython",
    "version": 3
   },
   "file_extension": ".py",
   "mimetype": "text/x-python",
   "name": "python",
   "nbconvert_exporter": "python",
   "pygments_lexer": "ipython3",
   "version": "3.12.6"
  },
  "orig_nbformat": 4
 },
 "nbformat": 4,
 "nbformat_minor": 2
}
